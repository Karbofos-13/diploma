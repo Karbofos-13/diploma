{
 "cells": [
  {
   "cell_type": "code",
   "execution_count": 1,
   "id": "eb1a4166",
   "metadata": {},
   "outputs": [],
   "source": [
    "from flask import Flask, render_template, request\n",
    "import tensorflow as tf\n",
    "from tensorflow import keras\n",
    "from keras.models import load_model\n",
    "import numpy as np\n",
    "import os"
   ]
  },
  {
   "cell_type": "code",
   "execution_count": null,
   "id": "edea7d0f",
   "metadata": {},
   "outputs": [
    {
     "name": "stdout",
     "output_type": "stream",
     "text": [
      " * Serving Flask app '__main__'\n",
      " * Debug mode: off\n"
     ]
    },
    {
     "name": "stderr",
     "output_type": "stream",
     "text": [
      "WARNING: This is a development server. Do not use it in a production deployment. Use a production WSGI server instead.\n",
      " * Running on http://127.0.0.1:5000\n",
      "Press CTRL+C to quit\n",
      "127.0.0.1 - - [09/Jul/2025 13:52:58] \"GET / HTTP/1.1\" 200 -\n",
      "127.0.0.1 - - [09/Jul/2025 13:52:58] \"GET /static/styles.css HTTP/1.1\" 304 -\n"
     ]
    },
    {
     "name": "stdout",
     "output_type": "stream",
     "text": [
      "\u001b[1m1/1\u001b[0m \u001b[32m━━━━━━━━━━━━━━━━━━━━\u001b[0m\u001b[37m\u001b[0m \u001b[1m0s\u001b[0m 54ms/step\n"
     ]
    },
    {
     "name": "stderr",
     "output_type": "stream",
     "text": [
      "127.0.0.1 - - [09/Jul/2025 13:53:31] \"POST / HTTP/1.1\" 200 -\n",
      "127.0.0.1 - - [09/Jul/2025 13:53:31] \"GET /static/styles.css HTTP/1.1\" 304 -\n"
     ]
    },
    {
     "name": "stdout",
     "output_type": "stream",
     "text": [
      "\u001b[1m1/1\u001b[0m \u001b[32m━━━━━━━━━━━━━━━━━━━━\u001b[0m\u001b[37m\u001b[0m \u001b[1m0s\u001b[0m 32ms/step\n"
     ]
    },
    {
     "name": "stderr",
     "output_type": "stream",
     "text": [
      "127.0.0.1 - - [09/Jul/2025 13:54:27] \"POST / HTTP/1.1\" 200 -\n",
      "127.0.0.1 - - [09/Jul/2025 13:54:27] \"GET /static/styles.css HTTP/1.1\" 304 -\n"
     ]
    },
    {
     "name": "stdout",
     "output_type": "stream",
     "text": [
      "\u001b[1m1/1\u001b[0m \u001b[32m━━━━━━━━━━━━━━━━━━━━\u001b[0m\u001b[37m\u001b[0m \u001b[1m0s\u001b[0m 31ms/step\n"
     ]
    },
    {
     "name": "stderr",
     "output_type": "stream",
     "text": [
      "127.0.0.1 - - [09/Jul/2025 13:56:29] \"POST / HTTP/1.1\" 200 -\n",
      "127.0.0.1 - - [09/Jul/2025 13:56:29] \"GET /static/styles.css HTTP/1.1\" 304 -\n"
     ]
    }
   ],
   "source": [
    "app = Flask(__name__)\n",
    "\n",
    "\n",
    "model_path = 'dnn_model.keras'\n",
    "if os.path.exists(model_path):\n",
    "    model = load_model(model_path)\n",
    "else:\n",
    "    raise FileNotFoundError(f\"Файл модели '{model_path}' не найден. Пожалуйста, убедитесь, что файл существует.\")\n",
    "\n",
    "@app.route('/', methods=['GET', 'POST'])\n",
    "def index():\n",
    "    error = None\n",
    "    prediction_result = None\n",
    "    \n",
    "    if request.method == 'POST':\n",
    "        try:\n",
    "            \n",
    "            density = float(request.form.get('density', 0))\n",
    "            elastic_modulus = float(request.form.get('elastic_modulus', 0))\n",
    "            hardener_amount = float(request.form.get('hardener_amount', 0))\n",
    "            epoxy_group = float(request.form.get('epoxy_group', 0))\n",
    "            flash_point = float(request.form.get('flash_point', 0))\n",
    "            surface_density = float(request.form.get('surface_density', 0))\n",
    "            elastic_modulus_tension = float(request.form.get('elastic_modulus_tension', 0))\n",
    "            tensile_strength = float(request.form.get('tensile_strength', 0))\n",
    "            resin_consumption = float(request.form.get('resin_consumption', 0))\n",
    "            angle = float(request.form.get('angle', 0))\n",
    "            step = float(request.form.get('step', 0))\n",
    "            density_wave = float(request.form.get('density_wave', 0))\n",
    "            \n",
    "            \n",
    "            input_data = np.array([[density, elastic_modulus, hardener_amount, epoxy_group, flash_point,\n",
    "                                    surface_density, elastic_modulus_tension, tensile_strength,\n",
    "                                    resin_consumption, angle, step, density_wave]], dtype=np.float32)\n",
    "            \n",
    "            \n",
    "            prediction_result = float(model.predict(input_data)[0][0])\n",
    "            \n",
    "        except Exception as e:\n",
    "            error = f\"Ошибка предсказания: {str(e)}\"\n",
    "        \n",
    "    return render_template('index.html', prediction_result=prediction_result, error=error)\n",
    "        \n",
    "if __name__ == '__main__':\n",
    "    app.run()"
   ]
  }
 ],
 "metadata": {
  "kernelspec": {
   "display_name": ".venv",
   "language": "python",
   "name": "python3"
  },
  "language_info": {
   "codemirror_mode": {
    "name": "ipython",
    "version": 3
   },
   "file_extension": ".py",
   "mimetype": "text/x-python",
   "name": "python",
   "nbconvert_exporter": "python",
   "pygments_lexer": "ipython3",
   "version": "3.11.8"
  }
 },
 "nbformat": 4,
 "nbformat_minor": 5
}
