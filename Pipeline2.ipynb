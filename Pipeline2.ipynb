{
 "cells": [
  {
   "cell_type": "code",
   "execution_count": null,
   "id": "3d748bec",
   "metadata": {},
   "outputs": [],
   "source": [
    "import pandas as pd\n",
    "import numpy as np\n",
    "import matplotlib.pyplot as plt\n",
    "import seaborn as sns\n",
    "import pickle\n",
    "from pathlib import Path\n",
    "\n",
    "import plotly.graph_objs as go\n",
    "import plotly.express as px\n",
    "\n",
    "from sklearn.cluster import KMeans\n",
    "from sklearn.preprocessing import StandardScaler\n",
    "from sklearn.model_selection import train_test_split, GridSearchCV, KFold\n",
    "from sklearn.tree import DecisionTreeRegressor\n",
    "from sklearn.ensemble import AdaBoostRegressor\n",
    "from sklearn.ensemble import GradientBoostingRegressor\n",
    "from sklearn.metrics import (mean_absolute_error, mean_absolute_percentage_error, mean_squared_error, silhouette_score, r2_score)\n",
    "\n",
    "import tensorflow as tf\n",
    "from tensorflow import keras\n",
    "from tensorflow.keras import layers, callbacks\n",
    "import matplotlib.pyplot as plt\n",
    "import joblib"
   ]
  },
  {
   "cell_type": "code",
   "execution_count": null,
   "id": "8621fb18",
   "metadata": {},
   "outputs": [],
   "source": [
    "df = pd.read_excel('data.xlsx', index_col='ID')\n",
    "df.info\n"
   ]
  },
  {
   "cell_type": "code",
   "execution_count": null,
   "id": "2c1ae82b",
   "metadata": {},
   "outputs": [],
   "source": [
    "df.sample(20)"
   ]
  },
  {
   "cell_type": "code",
   "execution_count": null,
   "id": "1c1785dc",
   "metadata": {},
   "outputs": [],
   "source": [
    "pd.set_option('display.max_rows', None)\n",
    "df.isnull().sum()"
   ]
  },
  {
   "cell_type": "code",
   "execution_count": null,
   "id": "513fd4c9",
   "metadata": {},
   "outputs": [],
   "source": [
    "df.info()"
   ]
  },
  {
   "cell_type": "code",
   "execution_count": null,
   "id": "8b753401",
   "metadata": {},
   "outputs": [],
   "source": [
    "df['Угол нашивки, град'] = df['Угол нашивки, град'].astype(float)\n",
    "df.info()"
   ]
  },
  {
   "cell_type": "code",
   "execution_count": null,
   "id": "618700c3",
   "metadata": {},
   "outputs": [],
   "source": [
    "for col in df.select_dtypes(include=['float64', 'int64']):\n",
    "    plt.figure(figsize=(10, 6))\n",
    "    sns.histplot(df[col], kde=True, bins=30, color='skyblue')\n",
    "    plt.title(f'Распределение {col} с KDE')\n",
    "    plt.xlabel(col)\n",
    "    plt.ylabel('Частота')\n",
    "    plt.show()"
   ]
  },
  {
   "cell_type": "code",
   "execution_count": null,
   "id": "f6f6f069",
   "metadata": {},
   "outputs": [],
   "source": [
    "# Расчет корреляции\n",
    "corr = df.corr()\n",
    "\n",
    "# Построение тепловой карты\n",
    "plt.figure(figsize=(12, 10))\n",
    "sns.heatmap(\n",
    "    corr,\n",
    "    annot=True,\n",
    "    fmt=\".2f\",\n",
    "    cmap=\"RdYlGn\",\n",
    "    linewidths=0.5,\n",
    "    square=True\n",
    ")\n",
    "plt.title(\"Тепловая карта корреляции\", fontsize=14)\n",
    "plt.show()"
   ]
  },
  {
   "cell_type": "code",
   "execution_count": null,
   "id": "f9850f15",
   "metadata": {},
   "outputs": [],
   "source": [
    "df.corr(method ='pearson')"
   ]
  },
  {
   "cell_type": "code",
   "execution_count": null,
   "id": "eaf705be",
   "metadata": {},
   "outputs": [],
   "source": [
    "df.corr(method ='kendall')"
   ]
  },
  {
   "cell_type": "code",
   "execution_count": null,
   "id": "44a368a7",
   "metadata": {},
   "outputs": [],
   "source": [
    "def find_outliers_iqr(data):\n",
    "    outliers = pd.DataFrame()\n",
    "    for col in data.select_dtypes(include=['number']): \n",
    "        Q1 = data[col].quantile(0.25)\n",
    "        Q3 = data[col].quantile(0.75)\n",
    "        IQR = Q3 - Q1\n",
    "        lower = Q1 - 1.5 * IQR\n",
    "        upper = Q3 + 1.5 * IQR\n",
    "        outliers[col] = ~data[col].between(lower, upper) \n",
    "    return outliers\n",
    "\n",
    "outliers_iqr = find_outliers_iqr(df)\n",
    "print(\"Выбросы по IQR:\")\n",
    "print(outliers_iqr.sum())  "
   ]
  },
  {
   "cell_type": "code",
   "execution_count": null,
   "id": "e85c9cb5",
   "metadata": {},
   "outputs": [],
   "source": [
    "plt.figure(figsize=(24, 12))\n",
    "sns.boxplot(data=df.select_dtypes(include=['number']))\n",
    "plt.xticks(rotation=90)\n",
    "plt.title(\"Выбросы по всем столбцам\")\n",
    "plt.show()"
   ]
  },
  {
   "cell_type": "code",
   "execution_count": null,
   "id": "5cb5c431",
   "metadata": {},
   "outputs": [],
   "source": [
    "def replace_outliers_iqr_with_mean(data):\n",
    "    data_clean = data.copy()\n",
    "    for col in data.select_dtypes(include=['number']):\n",
    "        Q1 = data[col].quantile(0.25)\n",
    "        Q3 = data[col].quantile(0.75)\n",
    "        IQR = Q3 - Q1\n",
    "        lower_bound = Q1 - 1.5 * IQR\n",
    "        upper_bound = Q3 + 1.5 * IQR\n",
    "        mean_val = data[(data[col] >= lower_bound) & (data[col] <= upper_bound)][col].mean()\n",
    "        data_clean[col] = np.where(\n",
    "            (data[col] < lower_bound) | (data[col] > upper_bound),\n",
    "            mean_val,\n",
    "            data[col]\n",
    "        )\n",
    "    return data_clean"
   ]
  },
  {
   "cell_type": "code",
   "execution_count": null,
   "id": "226dfca9",
   "metadata": {},
   "outputs": [],
   "source": [
    "(df.isnull().mean()).rename('доля выбросов').to_frame().style.bar(vmax=1, vmin=0).format('{:.2%}')"
   ]
  },
  {
   "cell_type": "code",
   "execution_count": null,
   "id": "484127be",
   "metadata": {},
   "outputs": [],
   "source": [
    "cluster_features = ['Модуль упругости при растяжении, ГПа']\n",
    "\n",
    "scaler = StandardScaler()\n",
    "scaled_data = scaler.fit_transform(df[cluster_features])\n",
    "\n",
    "wcss = []  \n",
    "for i in range(1, 16):\n",
    "    kmeans = KMeans(n_clusters=i, init='k-means++', random_state=42)\n",
    "    kmeans.fit(scaled_data)\n",
    "    wcss.append(kmeans.inertia_)\n",
    "\n",
    "plt.figure(figsize=(10, 6))\n",
    "plt.plot(range(1, 16), wcss, marker='o', linestyle='--')\n",
    "plt.title('Метод локтя для определения оптимального числа кластеров')\n",
    "plt.xlabel('Число кластеров')\n",
    "plt.ylabel('WCSS')\n",
    "plt.show()\n",
    "\n",
    "optimal_clusters = 6\n",
    "kmeans = KMeans(n_clusters=optimal_clusters, init='k-means++', random_state=42)\n",
    "clusters = kmeans.fit_predict(scaled_data)\n",
    "\n",
    "df['Cluster'] = clusters\n",
    "\n",
    "silhouette_avg = silhouette_score(scaled_data, clusters)\n",
    "print(f\"Средний коэффициент силуэта: {silhouette_avg:.3f}\")\n",
    "\n",
    "cluster_stats = df.groupby('Cluster')[cluster_features].mean()\n",
    "print(\"\\nСредние значения по кластерам:\")\n",
    "print(cluster_stats)"
   ]
  },
  {
   "cell_type": "code",
   "execution_count": null,
   "id": "7ff61ee6",
   "metadata": {},
   "outputs": [],
   "source": [
    "df['Cluster'] = np.nan\n",
    "df.loc[df.index, 'Cluster'] = clusters\n",
    "print(f\"Размер df: {len(df)}\")\n",
    "print(f\"Уникальные кластеры: {df['Cluster'].unique()}\")"
   ]
  },
  {
   "cell_type": "code",
   "execution_count": null,
   "id": "b50b2297",
   "metadata": {},
   "outputs": [],
   "source": [
    "def evaluate_model(y_true, y_pred):\n",
    "    print(f'MAE: {mean_absolute_error(y_true, y_pred):.4f}')\n",
    "    print(f'R2: {r2_score(y_true, y_pred):.4f}')\n",
    "    print(f'MSE: {mean_squared_error(y_true, y_pred):.4f}') \n",
    "    print(f'RMSE: {np.sqrt(mean_squared_error(y_true, y_pred)):.4f}')"
   ]
  },
  {
   "cell_type": "code",
   "execution_count": null,
   "id": "d5a4db0d",
   "metadata": {},
   "outputs": [],
   "source": [
    "df['Cluster'] = clusters\n",
    "\n",
    "X = df.drop(['Модуль упругости при растяжении, ГПа', 'Прочность при растяжении, МПа'], axis=1)\n",
    "y = df['Модуль упругости при растяжении, ГПа']\n",
    "\n",
    "X_train, X_test, y_train, y_test = train_test_split(\n",
    "    X, y, test_size=0.3, random_state=42\n",
    ")"
   ]
  },
  {
   "cell_type": "code",
   "execution_count": null,
   "id": "bdff839c",
   "metadata": {},
   "outputs": [],
   "source": [
    "print(len(X_train.columns))\n",
    "X_train.head()"
   ]
  },
  {
   "cell_type": "code",
   "execution_count": null,
   "id": "ef2db5ce",
   "metadata": {},
   "outputs": [],
   "source": [
    "model = GradientBoostingRegressor(\n",
    "    n_estimators=100,\n",
    "    learning_rate=0.1,\n",
    "    max_depth=7,\n",
    "    random_state=42\n",
    ")"
   ]
  },
  {
   "cell_type": "code",
   "execution_count": null,
   "id": "d345fd89",
   "metadata": {},
   "outputs": [],
   "source": [
    "model.fit(X_train, y_train)"
   ]
  },
  {
   "cell_type": "code",
   "execution_count": null,
   "id": "61f49f12",
   "metadata": {},
   "outputs": [],
   "source": [
    "y_pred = model.predict(X_test)\n",
    "print(\"\\nОценка модели на тестовых данных:\")\n",
    "evaluate_model(y_test, y_pred)"
   ]
  },
  {
   "cell_type": "code",
   "execution_count": null,
   "id": "583b9098",
   "metadata": {},
   "outputs": [],
   "source": [
    "data_to_check = 111\n",
    "print(X_train.iloc[data_to_check])\n",
    "print()\n",
    "print(y_train.iloc[data_to_check])"
   ]
  },
  {
   "cell_type": "code",
   "execution_count": null,
   "id": "b77fe661",
   "metadata": {},
   "outputs": [],
   "source": [
    "model.predict(X_test.iloc[data_to_check:data_to_check+1])"
   ]
  },
  {
   "cell_type": "code",
   "execution_count": null,
   "id": "fa3fe67a",
   "metadata": {},
   "outputs": [],
   "source": [
    "X_test.insert(0, 'pred', y_pred) \n",
    "X_test.insert(9, 'Модуль упругости при растяжении, ГПа', y_pred)\n",
    "X_test.insert(10, 'Прочность при растяжении, МПа', y_pred)\n",
    "X_test.head()"
   ]
  },
  {
   "cell_type": "code",
   "execution_count": null,
   "id": "aa778915",
   "metadata": {},
   "outputs": [],
   "source": [
    "with open('model_1.sav', 'wb') as f:\n",
    "    pickle.dump(model, f)\n",
    "    \n",
    "with open('model_1.sav', 'rb') as f: \n",
    "    model_1 = pickle.load(f)"
   ]
  },
  {
   "cell_type": "code",
   "execution_count": null,
   "id": "d5c9b265",
   "metadata": {},
   "outputs": [],
   "source": [
    "cluster_features = ['Прочность при растяжении, МПа']\n",
    "\n",
    "scaler = StandardScaler()\n",
    "scaled_data = scaler.fit_transform(df[cluster_features])\n",
    "\n",
    "wcss = []  \n",
    "for i in range(1, 16):\n",
    "    kmeans = KMeans(n_clusters=i, init='k-means++', random_state=42)\n",
    "    kmeans.fit(scaled_data)\n",
    "    wcss.append(kmeans.inertia_)\n",
    "\n",
    "plt.figure(figsize=(10, 6))\n",
    "plt.plot(range(1, 16), wcss, marker='o', linestyle='--')\n",
    "plt.title('Метод локтя для определения оптимального числа кластеров')\n",
    "plt.xlabel('Число кластеров')\n",
    "plt.ylabel('WCSS')\n",
    "plt.show()\n",
    "\n",
    "optimal_clusters = 6\n",
    "kmeans = KMeans(n_clusters=optimal_clusters, init='k-means++', random_state=42)\n",
    "clusters = kmeans.fit_predict(scaled_data)\n",
    "\n",
    "df['Cluster'] = clusters\n",
    "\n",
    "silhouette_avg = silhouette_score(scaled_data, clusters)\n",
    "print(f\"Средний коэффициент силуэта: {silhouette_avg:.3f}\")\n",
    "\n",
    "cluster_stats = df.groupby('Cluster')[cluster_features].mean()\n",
    "print(\"\\nСредние значения по кластерам:\")\n",
    "print(cluster_stats)"
   ]
  },
  {
   "cell_type": "code",
   "execution_count": null,
   "id": "5157af9b",
   "metadata": {},
   "outputs": [],
   "source": [
    "df['Cluster'] = np.nan\n",
    "df.loc[df.index, 'Cluster'] = clusters\n",
    "print(f\"Размер df: {len(df)}\")\n",
    "print(f\"Уникальные кластеры: {df['Cluster'].unique()}\")"
   ]
  },
  {
   "cell_type": "code",
   "execution_count": null,
   "id": "3646ee1e",
   "metadata": {},
   "outputs": [],
   "source": [
    "def evaluate_model(y_true, y_pred):\n",
    "    print(f'MAE: {mean_absolute_error(y_true, y_pred):.4f}')\n",
    "    print(f'R2: {r2_score(y_true, y_pred):.4f}')\n",
    "    print(f'MSE: {mean_squared_error(y_true, y_pred):.4f}') \n",
    "    print(f'RMSE: {np.sqrt(mean_squared_error(y_true, y_pred)):.4f}')"
   ]
  },
  {
   "cell_type": "code",
   "execution_count": null,
   "id": "f1599224",
   "metadata": {},
   "outputs": [],
   "source": [
    "df['Cluster'] = clusters\n",
    "\n",
    "X = df.drop(['Модуль упругости при растяжении, ГПа', 'Прочность при растяжении, МПа'], axis=1)\n",
    "y = df['Прочность при растяжении, МПа']\n",
    "\n",
    "X_train, X_test, y_train, y_test = train_test_split(\n",
    "    X, y, test_size=0.3, random_state=42\n",
    ")"
   ]
  },
  {
   "cell_type": "code",
   "execution_count": null,
   "id": "4d25820b",
   "metadata": {},
   "outputs": [],
   "source": [
    "print(len(X_train.columns))\n",
    "X_train.head()"
   ]
  },
  {
   "cell_type": "code",
   "execution_count": null,
   "id": "17be7fdf",
   "metadata": {},
   "outputs": [],
   "source": [
    "model = AdaBoostRegressor(\n",
    "    estimator=DecisionTreeRegressor(max_depth=4),\n",
    "    n_estimators=100,\n",
    "    learning_rate=0.1,\n",
    "    random_state=42\n",
    ")"
   ]
  },
  {
   "cell_type": "code",
   "execution_count": null,
   "id": "f927e90b",
   "metadata": {},
   "outputs": [],
   "source": [
    "model.fit(X_train, y_train)"
   ]
  },
  {
   "cell_type": "code",
   "execution_count": null,
   "id": "21c58e93",
   "metadata": {},
   "outputs": [],
   "source": [
    "y_pred = model.predict(X_test)\n",
    "print(\"\\nОценка модели на тестовых данных:\")\n",
    "evaluate_model(y_test, y_pred)"
   ]
  },
  {
   "cell_type": "code",
   "execution_count": null,
   "id": "c99317c0",
   "metadata": {},
   "outputs": [],
   "source": [
    "y_pred = model.predict(X_test) "
   ]
  },
  {
   "cell_type": "code",
   "execution_count": null,
   "id": "d4b30d47",
   "metadata": {},
   "outputs": [],
   "source": [
    "data_to_check = 111\n",
    "print(X_train.iloc[data_to_check])\n",
    "print()\n",
    "print(y_train.iloc[data_to_check])"
   ]
  },
  {
   "cell_type": "code",
   "execution_count": null,
   "id": "7bd2d81f",
   "metadata": {},
   "outputs": [],
   "source": [
    "model.predict(X_test.iloc[data_to_check:data_to_check+1])"
   ]
  },
  {
   "cell_type": "code",
   "execution_count": null,
   "id": "43ce89f6",
   "metadata": {},
   "outputs": [],
   "source": [
    "X_test.insert(0, 'pred', y_pred) \n",
    "X_test.insert(9, 'Модуль упругости при растяжении, ГПа', y_pred)\n",
    "X_test.insert(10, 'Прочность при растяжении, МПа', y_pred)\n",
    "X_test.head()"
   ]
  },
  {
   "cell_type": "code",
   "execution_count": null,
   "id": "ea003a7d",
   "metadata": {},
   "outputs": [],
   "source": [
    "with open('model_2.sav', 'wb') as f:\n",
    "    pickle.dump(model, f)\n",
    "    \n",
    "with open('model_2.sav', 'rb') as f: \n",
    "    model_2 = pickle.load(f)"
   ]
  },
  {
   "cell_type": "code",
   "execution_count": null,
   "id": "40f46894",
   "metadata": {},
   "outputs": [],
   "source": [
    "def load_and_prepare_data():\n",
    "    input_features = [\n",
    "        \"Плотность, кг/м3\", \"модуль упругости, ГПа\", \n",
    "        \"Количество отвердителя, м.%\", \"Содержание эпоксидных групп,%_2\",\n",
    "        \"Температура вспышки, С_2\", \"Поверхностная плотность, г/м2\",\n",
    "        \"Прочность при растяжении, МПа\", \"Модуль упругости при растяжении, ГПа\",\n",
    "        \"Потребление смолы, г/м2\", \"Угол нашивки, град\", \n",
    "        \"Шаг нашивки\", \"Плотность нашивки\"\n",
    "    ]\n",
    "    target = 'Соотношение матрица-наполнитель'\n",
    "\n",
    "    X = df[input_features]\n",
    "    y = df[[target]]\n",
    "    \n",
    "    return X, y"
   ]
  },
  {
   "cell_type": "code",
   "execution_count": null,
   "id": "ee95871a",
   "metadata": {},
   "outputs": [],
   "source": [
    "def build_model():\n",
    "    model = keras.Sequential()\n",
    "    \n",
    "    # Фиксированная архитектура: 2 слоя по 8 нейронов\n",
    "    model.add(layers.Dense(8, activation='relu', input_shape=(12,)))\n",
    "    model.add(layers.Dropout(0.2))\n",
    "    model.add(layers.Dense(8, activation='relu'))\n",
    "    model.add(layers.Dropout(0.2))\n",
    "    \n",
    "    model.add(layers.Dense(1))\n",
    "    \n",
    "    optimizer = keras.optimizers.Adam(learning_rate=0.001)\n",
    "    \n",
    "    model.compile(\n",
    "        optimizer=optimizer,\n",
    "        loss='mse',\n",
    "        metrics=['mae', keras.metrics.MeanAbsolutePercentageError(name='mape')]\n",
    "    )\n",
    "    return model"
   ]
  },
  {
   "cell_type": "code",
   "execution_count": null,
   "id": "9cf14b9e",
   "metadata": {},
   "outputs": [],
   "source": [
    "def train_with_cv(X, y, n_splits=5, epochs=100):\n",
    "    kfold = KFold(n_splits=n_splits, shuffle=True, random_state=42)\n",
    "    cv_scores = []\n",
    "    histories = []\n",
    "    \n",
    "    for train_idx, val_idx in kfold.split(X):\n",
    "        X_train, X_val = X.iloc[train_idx], X.iloc[val_idx]\n",
    "        y_train, y_val = y.iloc[train_idx], y.iloc[val_idx]\n",
    "        \n",
    "        # Масштабирование\n",
    "        scaler = StandardScaler()\n",
    "        X_train_scaled = scaler.fit_transform(X_train)\n",
    "        X_val_scaled = scaler.transform(X_val)\n",
    "        \n",
    "        model = build_model()\n",
    "        \n",
    "        early_stopping = callbacks.EarlyStopping(\n",
    "            patience=10,\n",
    "            restore_best_weights=True\n",
    "        )\n",
    "        \n",
    "        history = model.fit(\n",
    "            X_train_scaled, y_train,\n",
    "            validation_data=(X_val_scaled, y_val),\n",
    "            epochs=epochs,\n",
    "            batch_size=32,\n",
    "            callbacks=[early_stopping],\n",
    "            verbose=0\n",
    "        )\n",
    "        \n",
    "        val_loss, val_mae, val_mape = model.evaluate(X_val_scaled, y_val, verbose=0)\n",
    "        cv_scores.append(val_mae)\n",
    "        histories.append(history)\n",
    "    \n",
    "    return cv_scores, histories"
   ]
  },
  {
   "cell_type": "code",
   "execution_count": null,
   "id": "9f7929d0",
   "metadata": {},
   "outputs": [],
   "source": [
    "def main():\n",
    "    # Загрузка данных\n",
    "    X, y = load_and_prepare_data()\n",
    "    \n",
    "    # Кросс-валидация\n",
    "    cv_scores, histories = train_with_cv(X, y)\n",
    "    print(f\"Average CV MAE: {np.mean(cv_scores):.4f} ± {np.std(cv_scores):.4f}\")\n",
    "    \n",
    "    # Окончательное обучение на всех данных\n",
    "    X_train, X_test, y_train, y_test = train_test_split(\n",
    "        X, y, test_size=0.3, random_state=42\n",
    "    )\n",
    "    \n",
    "    scaler = StandardScaler()\n",
    "    X_train_scaled = scaler.fit_transform(X_train)\n",
    "    X_test_scaled = scaler.transform(X_test)\n",
    "    \n",
    "    # Создание и обучение модели с фиксированной архитектурой\n",
    "    model = build_model()\n",
    "    \n",
    "    # Обучение модели с историей\n",
    "    history = model.fit(\n",
    "        X_train_scaled, y_train,\n",
    "        validation_data=(X_test_scaled, y_test),\n",
    "        epochs=100,\n",
    "        batch_size=32,\n",
    "        callbacks=[callbacks.EarlyStopping(patience=10, restore_best_weights=True)],\n",
    "        verbose=1\n",
    "    )\n",
    "    \n",
    "    # Визуализация функции потерь для финального обучения\n",
    "    plt.figure(figsize=(12, 6))\n",
    "    plt.plot(history.history['loss'], label='Потери обучения')\n",
    "    plt.plot(history.history['val_loss'], label='Потери валидации')\n",
    "    plt.title('Функции потерь финальной модели')\n",
    "    plt.ylabel('Потери (MSE)')\n",
    "    plt.xlabel('Эпохи')\n",
    "    plt.legend()\n",
    "    plt.grid(True)\n",
    "    plt.show()\n",
    "    \n",
    "    # Оценка на тестовых данных\n",
    "    test_loss, test_mae, test_mape = model.evaluate(X_test_scaled, y_test)\n",
    "    print(f\"Test MAE: {test_mae:.4f}\")\n",
    "    print(f\"Test MAPE: {test_mape:.2f}%\")\n",
    "    \n",
    "    # Прогнозирование\n",
    "    y_pred = model.predict(X_test_scaled)\n",
    "    \n",
    "    # Визуализация результатов\n",
    "    plt.figure(figsize=(10, 6))\n",
    "    plt.scatter(y_test, y_pred, alpha=0.5)\n",
    "    plt.plot([y.min(), y.max()], [y.min(), y.max()], 'k--', lw=2)\n",
    "    plt.xlabel('Истинные значения')\n",
    "    plt.ylabel('Предсказания')\n",
    "    plt.title('Истинные vs предсказанные значения')\n",
    "    plt.show()\n",
    "    \n",
    "    # Сохранение модели\n",
    "    model.save('dnn_model.keras')\n",
    "    \n",
    "    # Важность признаков (пример)\n",
    "    feature_importance = np.abs(model.layers[0].get_weights()[0]).mean(axis=1)\n",
    "    plt.figure(figsize=(10, 6))\n",
    "    plt.barh(X.columns, feature_importance)\n",
    "    plt.title('Важность признаков')\n",
    "    plt.show()\n",
    "\n",
    "if __name__ == \"__main__\":\n",
    "    main()"
   ]
  },
  {
   "cell_type": "code",
   "execution_count": null,
   "id": "aaa6daa2",
   "metadata": {},
   "outputs": [],
   "source": [
    "def calculate_regression_metrics(y_true, y_pred):\n",
    "    metrics = {\n",
    "        'MAE': mean_absolute_error(y_true, y_pred),\n",
    "        'MSE': mean_squared_error(y_true, y_pred),\n",
    "        'RMSE': np.sqrt(mean_squared_error(y_true, y_pred)),\n",
    "        'R2': r2_score(y_true, y_pred),\n",
    "        'MAPE (%)': mean_absolute_percentage_error(y_true, y_pred) * 100\n",
    "    }\n",
    "    return metrics\n",
    "\n",
    "def print_metrics_table(metrics):\n",
    "    \"\"\"\"\"\"\n",
    "    print(\"\\nРегрессионные метрики:\")\n",
    "    print(\"{:<20} {:<10}\".format('Метрика', 'Значение'))\n",
    "    print(\"-\" * 30)\n",
    "    for name, value in metrics.items():\n",
    "        print(\"{:<20} {:<10.4f}\".format(name, value))\n",
    "\n",
    "if __name__ == \"__main__\":\n",
    "    y_true = df['Соотношение матрица-наполнитель'].values\n",
    "    y_pred = df['Соотношение матрица-наполнитель'].values * 0.95\n",
    "    \n",
    "    # Вычисление метрик\n",
    "    metrics = calculate_regression_metrics(y_true, y_pred)\n",
    "    \n",
    "    # Вывод результатов\n",
    "    print_metrics_table(metrics)\n",
    "\n",
    "# %%\n",
    "model = keras.models.load_model('dnn_model.keras')\n",
    "model.summary()"
   ]
  }
 ],
 "metadata": {
  "kernelspec": {
   "display_name": ".venv",
   "language": "python",
   "name": "python3"
  },
  "language_info": {
   "codemirror_mode": {
    "name": "ipython",
    "version": 3
   },
   "file_extension": ".py",
   "mimetype": "text/x-python",
   "name": "python",
   "nbconvert_exporter": "python",
   "pygments_lexer": "ipython3",
   "version": "3.11.8"
  }
 },
 "nbformat": 4,
 "nbformat_minor": 5
}
